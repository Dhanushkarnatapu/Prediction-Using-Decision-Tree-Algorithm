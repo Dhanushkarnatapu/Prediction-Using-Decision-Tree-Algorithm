{
 "cells": [
  {
   "cell_type": "code",
   "execution_count": null,
   "metadata": {},
   "outputs": [],
   "source": [
    "import numpy as np\r\n",
    "import pandas as pd\r\n",
    "import matplotlib.pyplot as plt\r\n",
    "import sklearn.datasets as dataset\r\n",
    "import seaborn as sns\r\n",
    "%matplotlib inline\r\n",
    "import warnings\r\n",
    "warnings.filterwarnings(\"ignore\")\r\n",
    "df = pd.read_csv(r'Iris.csv')\r\n",
    "df\r\n"
   ]
  },
  {
   "cell_type": "code",
   "execution_count": null,
   "metadata": {},
   "outputs": [],
   "source": [
    "df.drop('Id',axis=1,inplace=True)\r\n",
    "df.shape"
   ]
  },
  {
   "cell_type": "code",
   "execution_count": null,
   "metadata": {},
   "outputs": [],
   "source": [
    "df.drop_duplicates(inplace=True)\r\n",
    "df.shape"
   ]
  },
  {
   "cell_type": "code",
   "execution_count": null,
   "metadata": {},
   "outputs": [],
   "source": [
    "df.isnull().sum()"
   ]
  },
  {
   "cell_type": "code",
   "execution_count": null,
   "metadata": {},
   "outputs": [],
   "source": [
    "df.info()"
   ]
  },
  {
   "cell_type": "code",
   "execution_count": null,
   "metadata": {},
   "outputs": [],
   "source": [
    "df.describe()"
   ]
  },
  {
   "cell_type": "code",
   "execution_count": null,
   "metadata": {},
   "outputs": [],
   "source": [
    "df['Species'].value_counts()"
   ]
  },
  {
   "cell_type": "code",
   "execution_count": null,
   "metadata": {},
   "outputs": [],
   "source": [
    "# plotting a pie chart\r\n",
    "size = [50,49,48]\r\n",
    "labels = \"Iris-versicolor\", \"Iris-virginica\",\"Iris-setosa\"\r\n",
    "colors = ['magenta', 'grey','violet']\r\n",
    "explode = [0.04,0.04,0.04]\r\n",
    "plt.rcParams['figure.figsize'] = (8, 8)\r\n",
    "plt.pie(size, labels = labels, colors = colors,explode = explode,shadow = True, autopct = \"%.2f%%\")\r\n",
    "plt.title('A Pie Chart Representing Species', fontsize = 30)\r\n",
    "plt.axis('off')\r\n",
    "plt.legend()\r\n",
    "plt.show()"
   ]
  },
  {
   "cell_type": "code",
   "execution_count": null,
   "metadata": {},
   "outputs": [],
   "source": [
    "sns.set_style(\"whitegrid\");\r\n",
    "sns.FacetGrid(df, hue=\"Species\", size=6) \\\r\n",
    "   .map(plt.scatter, \"SepalLengthCm\", \"SepalWidthCm\") \\\r\n",
    "   .add_legend();\r\n",
    "plt.show();"
   ]
  },
  {
   "cell_type": "code",
   "execution_count": null,
   "metadata": {},
   "outputs": [],
   "source": [
    "sns.set_style(\"whitegrid\");\r\n",
    "sns.pairplot(df, hue=\"Species\", size=3);\r\n",
    "plt.show()"
   ]
  },
  {
   "cell_type": "code",
   "execution_count": null,
   "metadata": {},
   "outputs": [],
   "source": [
    "sns.FacetGrid(df, hue=\"Species\", size=6) \\\r\n",
    "   .map(sns.distplot, \"PetalLengthCm\") \\\r\n",
    "   .add_legend()\r\n",
    "plt.show()"
   ]
  },
  {
   "cell_type": "code",
   "execution_count": null,
   "metadata": {},
   "outputs": [],
   "source": [
    "iris_setosa = df.loc[df[\"Species\"] == \"Iris-setosa\"];\r\n",
    "iris_virginica = df.loc[df[\"Species\"] == \"Iris-virginica\"];\r\n",
    "iris_versicolor = df.loc[df[\"Species\"] == \"Iris-versicolor\"];\r\n",
    "\r\n",
    "counts, bin_edges = np.histogram(iris_setosa['PetalLengthCm'], bins=10, \r\n",
    "                                 density = True)\r\n",
    "pdf = counts/(sum(counts))\r\n",
    "cdf = np.cumsum(pdf)\r\n",
    "plt.plot(bin_edges[1:],pdf)\r\n",
    "plt.plot(bin_edges[1:], cdf)\r\n",
    "\r\n",
    "# virginica\r\n",
    "counts, bin_edges = np.histogram(iris_virginica['PetalLengthCm'], bins=10, \r\n",
    "                                 density = True)\r\n",
    "pdf = counts/(sum(counts))\r\n",
    "cdf = np.cumsum(pdf)\r\n",
    "plt.plot(bin_edges[1:],pdf)\r\n",
    "plt.plot(bin_edges[1:], cdf)\r\n",
    "\r\n",
    "#versicolor\r\n",
    "counts, bin_edges = np.histogram(iris_versicolor['PetalLengthCm'], bins=10, \r\n",
    "                                 density = True)\r\n",
    "pdf = counts/(sum(counts))\r\n",
    "cdf = np.cumsum(pdf)\r\n",
    "plt.plot(bin_edges[1:],pdf)\r\n",
    "plt.plot(bin_edges[1:], cdf)"
   ]
  },
  {
   "cell_type": "code",
   "execution_count": null,
   "metadata": {},
   "outputs": [],
   "source": [
    "plt.figure(figsize=(8,6))\r\n",
    "sns.boxplot(x='Species',y='PetalLengthCm', data=df)\r\n",
    "plt.show()"
   ]
  },
  {
   "cell_type": "code",
   "execution_count": null,
   "metadata": {},
   "outputs": [],
   "source": [
    "sns.violinplot(x=\"Species\", y=\"PetalLengthCm\", data=df, size=8)\r\n",
    "plt.show()"
   ]
  },
  {
   "cell_type": "code",
   "execution_count": null,
   "metadata": {},
   "outputs": [],
   "source": [
    "plt.figure(figsize=(12,6))\r\n",
    "sns.heatmap(df.corr(),annot=True,cmap='cividis')\r\n",
    "plt.tight_layout()"
   ]
  },
  {
   "cell_type": "code",
   "execution_count": null,
   "metadata": {},
   "outputs": [],
   "source": [
    "#MODEL TRAINING...\r\n",
    "x= df.drop('Species',axis=1)\r\n",
    "y= df['Species']\r\n",
    "from sklearn.model_selection import train_test_split\r\n",
    "X_train, X_test, y_train, y_test = train_test_split(x,y,test_size=0.3,random_state=42)\r\n",
    "from sklearn.tree import DecisionTreeClassifier\r\n",
    "model = DecisionTreeClassifier().fit(X_train,y_train)\r\n",
    "\r\n",
    "# features for plotting the decision tree graphs\r\n",
    "features = x.columns.tolist()\r\n",
    "target = y.value_counts().index\r\n",
    "\r\n",
    "#THE DESICION TREE\r\n",
    "from sklearn import tree\r\n",
    "plt.figure(figsize = (15,10))\r\n",
    "tree.plot_tree(model,feature_names=features,  \r\n",
    "                   class_names=target,\r\n",
    "                   filled=True)\r\n",
    "plt.title(\"Decision Tree\")\r\n",
    "plt.show()"
   ]
  }
 ],
 "metadata": {
  "interpreter": {
   "hash": "705a0fface73d7bf5dcb9415cd126aacd2ed3bc07552ba5f1989523a8d8937c8"
  },
  "kernelspec": {
   "display_name": "Python 3.9.5 64-bit",
   "name": "python3"
  },
  "language_info": {
   "codemirror_mode": {
    "name": "ipython",
    "version": 3
   },
   "file_extension": ".py",
   "mimetype": "text/x-python",
   "name": "python",
   "nbconvert_exporter": "python",
   "pygments_lexer": "ipython3",
   "version": "3.9.5"
  },
  "orig_nbformat": 4
 },
 "nbformat": 4,
 "nbformat_minor": 2
}